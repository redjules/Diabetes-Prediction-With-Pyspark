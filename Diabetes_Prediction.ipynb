{
  "nbformat": 4,
  "nbformat_minor": 0,
  "metadata": {
    "colab": {
      "provenance": [],
      "authorship_tag": "ABX9TyM7uQY2BY4ZXMaVgDSVsv4h",
      "include_colab_link": true
    },
    "kernelspec": {
      "name": "python3",
      "display_name": "Python 3"
    },
    "language_info": {
      "name": "python"
    }
  },
  "cells": [
    {
      "cell_type": "markdown",
      "metadata": {
        "id": "view-in-github",
        "colab_type": "text"
      },
      "source": [
        "<a href=\"https://colab.research.google.com/github/redjules/Diabetes-Prediction-With-Pyspark/blob/main/Diabetes_Prediction.ipynb\" target=\"_parent\"><img src=\"https://colab.research.google.com/assets/colab-badge.svg\" alt=\"Open In Colab\"/></a>"
      ]
    },
    {
      "cell_type": "markdown",
      "source": [
        "## Install Dependencies & Run Spark Session"
      ],
      "metadata": {
        "id": "64BKX9WkSoGo"
      }
    },
    {
      "cell_type": "code",
      "source": [
        "#install pyspark\n"
      ],
      "metadata": {
        "id": "Mq8xnVbhZlWl"
      },
      "execution_count": null,
      "outputs": []
    },
    {
      "cell_type": "code",
      "source": [
        "#create a sparksession"
      ],
      "metadata": {
        "id": "Ek6KClA6SuEc"
      },
      "execution_count": null,
      "outputs": []
    },
    {
      "cell_type": "markdown",
      "source": [
        "## Clone and Export Dataset"
      ],
      "metadata": {
        "id": "pJftO4SrS0h5"
      }
    },
    {
      "cell_type": "code",
      "source": [
        "#clone the diabetes dataset from the github repository"
      ],
      "metadata": {
        "id": "teFiUQgtSylM"
      },
      "execution_count": null,
      "outputs": []
    },
    {
      "cell_type": "code",
      "source": [
        "#check if the dataset exists"
      ],
      "metadata": {
        "id": "kaBaVFVKTAOy"
      },
      "execution_count": null,
      "outputs": []
    },
    {
      "cell_type": "code",
      "source": [
        "#create spark dataframe"
      ],
      "metadata": {
        "id": "ujdhKUUXTEkV"
      },
      "execution_count": null,
      "outputs": []
    },
    {
      "cell_type": "code",
      "source": [
        "#display the dataframe"
      ],
      "metadata": {
        "id": "0mVTy_uBTIJV"
      },
      "execution_count": null,
      "outputs": []
    },
    {
      "cell_type": "code",
      "source": [
        "#print the schema\n"
      ],
      "metadata": {
        "id": "MnjzWuF4TP88"
      },
      "execution_count": null,
      "outputs": []
    },
    {
      "cell_type": "code",
      "source": [
        "#count the total no. of diabetic and non-diabetic class"
      ],
      "metadata": {
        "id": "qNNvrBRETTv_"
      },
      "execution_count": null,
      "outputs": []
    },
    {
      "cell_type": "code",
      "source": [
        "#get the summary statistics"
      ],
      "metadata": {
        "id": "2s4IXRW6TU2g"
      },
      "execution_count": null,
      "outputs": []
    },
    {
      "cell_type": "markdown",
      "source": [
        "# Data Cleaning & Preparation"
      ],
      "metadata": {
        "id": "MLWAuWRhVMUe"
      }
    },
    {
      "cell_type": "code",
      "source": [
        "#check for null values"
      ],
      "metadata": {
        "id": "WELlPec2TW_F"
      },
      "execution_count": null,
      "outputs": []
    },
    {
      "cell_type": "code",
      "source": [
        "#look for the unnecessary values present"
      ],
      "metadata": {
        "id": "_kP98hO1TQqn"
      },
      "execution_count": null,
      "outputs": []
    },
    {
      "cell_type": "markdown",
      "source": [
        "# Correlation Analysis & Feature Selection"
      ],
      "metadata": {
        "id": "1sdpcvzXVF5J"
      }
    },
    {
      "cell_type": "code",
      "source": [
        "#find the correlation among the set of input & output variables"
      ],
      "metadata": {
        "id": "9uNi_pjPTexM"
      },
      "execution_count": null,
      "outputs": []
    },
    {
      "cell_type": "code",
      "source": [
        "#feature selection"
      ],
      "metadata": {
        "id": "Aa9q47FhTgsf"
      },
      "execution_count": null,
      "outputs": []
    },
    {
      "cell_type": "code",
      "source": [
        "#print the schema\n"
      ],
      "metadata": {
        "id": "aa-zvFBRTizW"
      },
      "execution_count": null,
      "outputs": []
    },
    {
      "cell_type": "code",
      "source": [
        "#display dataframe"
      ],
      "metadata": {
        "id": "PXsWZQinUGH2"
      },
      "execution_count": null,
      "outputs": []
    },
    {
      "cell_type": "markdown",
      "source": [
        "# Split Dataset & Build the Model"
      ],
      "metadata": {
        "id": "hzUvh4jbVAa3"
      }
    },
    {
      "cell_type": "code",
      "source": [
        "#create final data"
      ],
      "metadata": {
        "id": "_vVVgdTIUG8r"
      },
      "execution_count": null,
      "outputs": []
    },
    {
      "cell_type": "code",
      "source": [
        "#print schema of final data"
      ],
      "metadata": {
        "id": "FdYI0kUtULfI"
      },
      "execution_count": null,
      "outputs": []
    },
    {
      "cell_type": "code",
      "source": [
        "#split the dataset ; build the model"
      ],
      "metadata": {
        "id": "WYTD6GxKUNlb"
      },
      "execution_count": null,
      "outputs": []
    },
    {
      "cell_type": "code",
      "source": [
        "#summary of the model"
      ],
      "metadata": {
        "id": "4exkkqdCUOX6"
      },
      "execution_count": null,
      "outputs": []
    },
    {
      "cell_type": "markdown",
      "source": [
        "# Evaluate and Save the Model"
      ],
      "metadata": {
        "id": "AZAtknRfU8sM"
      }
    },
    {
      "cell_type": "code",
      "source": [
        "# save model"
      ],
      "metadata": {
        "id": "ZML7VstMUcCb"
      },
      "execution_count": null,
      "outputs": []
    },
    {
      "cell_type": "code",
      "source": [
        "# load saved model back to the environment"
      ],
      "metadata": {
        "id": "S8dTq5f_UeEr"
      },
      "execution_count": null,
      "outputs": []
    },
    {
      "cell_type": "markdown",
      "source": [
        "# Prediction on New Data with the saved model"
      ],
      "metadata": {
        "id": "s3oqWWtvUkaO"
      }
    },
    {
      "cell_type": "code",
      "source": [
        "#create a new spark dataframe"
      ],
      "metadata": {
        "id": "uiEa1aXTUhWr"
      },
      "execution_count": null,
      "outputs": []
    },
    {
      "cell_type": "code",
      "source": [
        "#print the schema"
      ],
      "metadata": {
        "id": "vRdY2cDXUnQN"
      },
      "execution_count": null,
      "outputs": []
    },
    {
      "cell_type": "code",
      "source": [
        "#create an additional feature merged column "
      ],
      "metadata": {
        "id": "ws8r1aosUsWy"
      },
      "execution_count": null,
      "outputs": []
    },
    {
      "cell_type": "code",
      "source": [
        "#print the schema"
      ],
      "metadata": {
        "id": "1lsFJtJxUt1w"
      },
      "execution_count": null,
      "outputs": []
    },
    {
      "cell_type": "code",
      "source": [
        "#use model to make predictions"
      ],
      "metadata": {
        "id": "FRUPR-B4U1gK"
      },
      "execution_count": null,
      "outputs": []
    },
    {
      "cell_type": "code",
      "source": [
        "#display the predictions"
      ],
      "metadata": {
        "id": "tj1sPfSoU3oG"
      },
      "execution_count": null,
      "outputs": []
    }
  ]
}